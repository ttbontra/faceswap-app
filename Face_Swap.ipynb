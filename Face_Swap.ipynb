{
  "cells": [
    {
      "cell_type": "code",
      "execution_count": null,
      "metadata": {
        "id": "wFp7MeUuJRH5"
      },
      "outputs": [],
      "source": [
        "# Library imports\n",
        "import cv2\n",
        "import numpy as np\n",
        "import dlib\n",
        "import requests  \n",
        "from PIL import Image"
      ]
    },
    {
      "cell_type": "code",
      "execution_count": null,
      "metadata": {
        "id": "9ELAu6ZHP2hZ"
      },
      "outputs": [],
      "source": [
        "# Downloading shape_predictor\n",
        "!wget 'https://github.com/tzutalin/dlib-android/raw/master/data/shape_predictor_68_face_landmarks.dat'"
      ]
    },
    {
      "cell_type": "code",
      "execution_count": null,
      "metadata": {
        "id": "nOoqrAdYKGJ2"
      },
      "outputs": [],
      "source": [
        "# Extracting index from array\n",
        "def extract_index_nparray(nparray):\n",
        "    index = None\n",
        "    for num in nparray[0]:\n",
        "        index = num\n",
        "        break\n",
        "    return index"
      ]
    },
    {
      "cell_type": "code",
      "execution_count": null,
      "metadata": {
        "id": "xOumnR2oNTuS"
      },
      "outputs": [],
      "source": [
        "# Reading source image form url\n",
        "image1 = Image.open(requests.get('https://encrypted-tbn0.gstatic.com/images?q=tbn:ANd9GcSx8Pu1tW1uCiZPfj9K1EL6uHxbg3bOKO9XkA&usqp=CAU', stream=True).raw)\n",
        "image1 = image1.resize((300,300))\n",
        "image1"
      ]
    },
    {
      "cell_type": "code",
      "execution_count": null,
      "metadata": {
        "id": "nMvalrv0O3he"
      },
      "outputs": [],
      "source": [
        "# Reading destination image form url\n",
        "image2 = Image.open(requests.get('https://encrypted-tbn0.gstatic.com/images?q=tbn:ANd9GcTYX1dyl9INRo5cbvDeTILRcZVzfcMsCsE0kg&usqp=CAU', stream=True).raw)\n",
        "image2 = image2.resize((300,300))\n",
        "image2"
      ]
    },
    {
      "cell_type": "code",
      "execution_count": null,
      "metadata": {
        "id": "T6bMoYV_KI06"
      },
      "outputs": [],
      "source": [
        "# Converting image to array and converting them to grayscale\n",
        "img = np.array(image1)\n",
        "img_gray = cv2.cvtColor(img, cv2.COLOR_BGR2GRAY)\n",
        "mask = np.zeros_like(img_gray)\n",
        "img2 = np.array(image2)\n",
        "img2_gray = cv2.cvtColor(img2, cv2.COLOR_BGR2GRAY)"
      ]
    },
    {
      "cell_type": "code",
      "execution_count": null,
      "metadata": {
        "id": "jjFhYnojKNvc"
      },
      "outputs": [],
      "source": [
        "# Initalizing frontal face detector and shape predictor\n",
        "detector = dlib.get_frontal_face_detector()\n",
        "predictor = dlib.shape_predictor(\"shape_predictor_68_face_landmarks.dat\")\n",
        "height, width, channels = img2.shape\n",
        "img2_new_face = np.zeros((height, width, channels), np.uint8)"
      ]
    },
    {
      "cell_type": "code",
      "execution_count": null,
      "metadata": {
        "id": "0alfXlyNKSsR"
      },
      "outputs": [],
      "source": [
        "# Face 1\n",
        "faces = detector(img_gray)\n",
        "for face in faces:\n",
        "    landmarks = predictor(img_gray, face)\n",
        "    landmarks_points = []\n",
        "    for n in range(0, 68):\n",
        "        x = landmarks.part(n).x\n",
        "        y = landmarks.part(n).y\n",
        "        landmarks_points.append((x, y))\n",
        "\n",
        "    points = np.array(landmarks_points, np.int32)\n",
        "    convexhull = cv2.convexHull(points)\n",
        "    cv2.fillConvexPoly(mask, convexhull, 255)\n",
        "\n",
        "    face_image_1 = cv2.bitwise_and(img, img, mask=mask)\n",
        "\n",
        "    # Delaunay triangulation\n",
        "    rect = cv2.boundingRect(convexhull)\n",
        "    subdiv = cv2.Subdiv2D(rect)\n",
        "    subdiv.insert(landmarks_points)\n",
        "    triangles = subdiv.getTriangleList()\n",
        "    triangles = np.array(triangles, dtype=np.int32)\n",
        "\n",
        "    indexes_triangles = []\n",
        "    for t in triangles:\n",
        "        pt1 = (t[0], t[1])\n",
        "        pt2 = (t[2], t[3])\n",
        "        pt3 = (t[4], t[5])\n",
        "\n",
        "\n",
        "        index_pt1 = np.where((points == pt1).all(axis=1))\n",
        "        index_pt1 = extract_index_nparray(index_pt1)\n",
        "\n",
        "        index_pt2 = np.where((points == pt2).all(axis=1))\n",
        "        index_pt2 = extract_index_nparray(index_pt2)\n",
        "\n",
        "        index_pt3 = np.where((points == pt3).all(axis=1))\n",
        "        index_pt3 = extract_index_nparray(index_pt3)\n",
        "\n",
        "        if index_pt1 is not None and index_pt2 is not None and index_pt3 is not None:\n",
        "            triangle = [index_pt1, index_pt2, index_pt3]\n",
        "            indexes_triangles.append(triangle)\n"
      ]
    },
    {
      "cell_type": "code",
      "execution_count": null,
      "metadata": {
        "id": "SSnuuS0xKVRn"
      },
      "outputs": [],
      "source": [
        "# Face 2\n",
        "faces2 = detector(img2_gray)\n",
        "for face in faces2:\n",
        "    landmarks = predictor(img2_gray, face)\n",
        "    landmarks_points2 = []\n",
        "    for n in range(0, 68):\n",
        "        x = landmarks.part(n).x\n",
        "        y = landmarks.part(n).y\n",
        "        landmarks_points2.append((x, y))\n",
        "\n",
        "\n",
        "    points2 = np.array(landmarks_points2, np.int32)\n",
        "    convexhull2 = cv2.convexHull(points2)\n"
      ]
    },
    {
      "cell_type": "code",
      "execution_count": null,
      "metadata": {
        "id": "Cw5j2VVLKX9D"
      },
      "outputs": [],
      "source": [
        "# Creating empty mask\n",
        "lines_space_mask = np.zeros_like(img_gray)\n",
        "lines_space_new_face = np.zeros_like(img2)"
      ]
    },
    {
      "cell_type": "code",
      "execution_count": null,
      "metadata": {
        "id": "vGsw_KVnKY1d"
      },
      "outputs": [],
      "source": [
        "# Triangulation of both faces\n",
        "for triangle_index in indexes_triangles:\n",
        "    # Triangulation of the first face\n",
        "    tr1_pt1 = landmarks_points[triangle_index[0]]\n",
        "    tr1_pt2 = landmarks_points[triangle_index[1]]\n",
        "    tr1_pt3 = landmarks_points[triangle_index[2]]\n",
        "    triangle1 = np.array([tr1_pt1, tr1_pt2, tr1_pt3], np.int32)\n",
        "\n",
        "\n",
        "    rect1 = cv2.boundingRect(triangle1)\n",
        "    (x, y, w, h) = rect1\n",
        "    cropped_triangle = img[y: y + h, x: x + w]\n",
        "    cropped_tr1_mask = np.zeros((h, w), np.uint8)\n",
        "\n",
        "\n",
        "    points = np.array([[tr1_pt1[0] - x, tr1_pt1[1] - y],\n",
        "                       [tr1_pt2[0] - x, tr1_pt2[1] - y],\n",
        "                       [tr1_pt3[0] - x, tr1_pt3[1] - y]], np.int32)\n",
        "\n",
        "    cv2.fillConvexPoly(cropped_tr1_mask, points, 255)\n",
        "\n",
        "    # Lines space\n",
        "    cv2.line(lines_space_mask, tr1_pt1, tr1_pt2, 255)\n",
        "    cv2.line(lines_space_mask, tr1_pt2, tr1_pt3, 255)\n",
        "    cv2.line(lines_space_mask, tr1_pt1, tr1_pt3, 255)\n",
        "    lines_space = cv2.bitwise_and(img, img, mask=lines_space_mask)\n",
        "\n",
        "    # Triangulation of second face\n",
        "    tr2_pt1 = landmarks_points2[triangle_index[0]]\n",
        "    tr2_pt2 = landmarks_points2[triangle_index[1]]\n",
        "    tr2_pt3 = landmarks_points2[triangle_index[2]]\n",
        "    triangle2 = np.array([tr2_pt1, tr2_pt2, tr2_pt3], np.int32)\n",
        "\n",
        "\n",
        "    rect2 = cv2.boundingRect(triangle2)\n",
        "    (x, y, w, h) = rect2\n",
        "\n",
        "    cropped_tr2_mask = np.zeros((h, w), np.uint8)\n",
        "\n",
        "    points2 = np.array([[tr2_pt1[0] - x, tr2_pt1[1] - y],\n",
        "                        [tr2_pt2[0] - x, tr2_pt2[1] - y],\n",
        "                        [tr2_pt3[0] - x, tr2_pt3[1] - y]], np.int32)\n",
        "\n",
        "    cv2.fillConvexPoly(cropped_tr2_mask, points2, 255)\n",
        "\n",
        "    # Warp triangles\n",
        "    points = np.float32(points)\n",
        "    points2 = np.float32(points2)\n",
        "    M = cv2.getAffineTransform(points, points2)\n",
        "    warped_triangle = cv2.warpAffine(cropped_triangle, M, (w, h))\n",
        "    warped_triangle = cv2.bitwise_and(warped_triangle, warped_triangle, mask=cropped_tr2_mask)\n",
        "\n",
        "    # Reconstructing destination face\n",
        "    img2_new_face_rect_area = img2_new_face[y: y + h, x: x + w]\n",
        "    img2_new_face_rect_area_gray = cv2.cvtColor(img2_new_face_rect_area, cv2.COLOR_BGR2GRAY)\n",
        "    _, mask_triangles_designed = cv2.threshold(img2_new_face_rect_area_gray, 1, 255, cv2.THRESH_BINARY_INV)\n",
        "    warped_triangle = cv2.bitwise_and(warped_triangle, warped_triangle, mask=mask_triangles_designed)\n",
        "\n",
        "    img2_new_face_rect_area = cv2.add(img2_new_face_rect_area, warped_triangle)\n",
        "    img2_new_face[y: y + h, x: x + w] = img2_new_face_rect_area\n"
      ]
    },
    {
      "cell_type": "code",
      "execution_count": null,
      "metadata": {
        "id": "EPHGGaFkKYAE"
      },
      "outputs": [],
      "source": [
        "# Face swapped (putting 1st face into 2nd face)\n",
        "img2_face_mask = np.zeros_like(img2_gray)\n",
        "img2_head_mask = cv2.fillConvexPoly(img2_face_mask, convexhull2, 255)\n",
        "img2_face_mask = cv2.bitwise_not(img2_head_mask)\n"
      ]
    },
    {
      "cell_type": "code",
      "execution_count": null,
      "metadata": {
        "id": "QUJaa9ocKfos"
      },
      "outputs": [],
      "source": [
        "img2_head_noface = cv2.bitwise_and(img2, img2, mask=img2_face_mask)\n",
        "result = cv2.add(img2_head_noface, img2_new_face)"
      ]
    },
    {
      "cell_type": "code",
      "execution_count": null,
      "metadata": {
        "id": "7uyEucluKiRP"
      },
      "outputs": [],
      "source": [
        "# Creating seamless clone of two faces\n",
        "(x, y, w, h) = cv2.boundingRect(convexhull2)\n",
        "center_face2 = (int((x + x + w) / 2), int((y + y + h) / 2))\n",
        "seamlessclone = cv2.seamlessClone(result, img2, img2_head_mask, center_face2, cv2.NORMAL_CLONE)"
      ]
    },
    {
      "cell_type": "code",
      "execution_count": null,
      "metadata": {
        "id": "WFPEQL8PKkaP"
      },
      "outputs": [],
      "source": [
        "# Converting array to image\n",
        "Image.fromarray(seamlessclone)"
      ]
    }
  ],
  "metadata": {
    "colab": {
      "collapsed_sections": [],
      "name": "Face Swap.ipynb",
      "provenance": []
    },
    "kernelspec": {
      "display_name": "Python 3",
      "name": "python3"
    }
  },
  "nbformat": 4,
  "nbformat_minor": 0
}
